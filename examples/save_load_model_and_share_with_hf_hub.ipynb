{
 "cells": [
  {
   "cell_type": "code",
   "execution_count": 1,
   "metadata": {},
   "outputs": [],
   "source": [
    "import segmentation_models_pytorch as smp"
   ]
  },
  {
   "cell_type": "markdown",
   "metadata": {},
   "source": [
    "## Save to local directory and load back"
   ]
  },
  {
   "cell_type": "code",
   "execution_count": 2,
   "metadata": {},
   "outputs": [
    {
     "name": "stdout",
     "output_type": "stream",
     "text": [
      "Loading weights from local directory\n"
     ]
    }
   ],
   "source": [
    "model = smp.Unet()\n",
    "\n",
    "# save the model\n",
    "model.save_pretrained(\"saved-model-dir/unet/\")\n",
    "\n",
    "# load the model\n",
    "restored_model = smp.from_pretrained(\"saved-model-dir/unet/\")"
   ]
  },
  {
   "cell_type": "markdown",
   "metadata": {},
   "source": [
    "## Save model with additional metadata"
   ]
  },
  {
   "cell_type": "code",
   "execution_count": 6,
   "metadata": {},
   "outputs": [],
   "source": [
    "model = smp.Unet()\n",
    "\n",
    "# save the model\n",
    "model.save_pretrained(\n",
    "    \"saved-model-dir/unet-with-metadata/\",\n",
    "\n",
    "    # additional information to be saved with the model\n",
    "    # only \"dataset\" and \"metrics\" are supported\n",
    "    dataset=\"PASCAL VOC\",  # only string name is supported\n",
    "    metrics={              # should be a dictionary with metric name as key and metric value as value\n",
    "        \"mIoU\": 0.95,\n",
    "        \"accuracy\": 0.96\n",
    "    }\n",
    ")"
   ]
  },
  {
   "cell_type": "code",
   "execution_count": 7,
   "metadata": {},
   "outputs": [
    {
     "name": "stdout",
     "output_type": "stream",
     "text": [
      "---\n",
      "library_name: segmentation-models-pytorch\n",
      "license: mit\n",
      "pipeline_tag: image-segmentation\n",
      "tags:\n",
      "- semantic-segmentation\n",
      "- pytorch\n",
      "- segmentation-models-pytorch\n",
      "languages:\n",
      "- python\n",
      "---\n",
      "# Unet Model Card\n",
      "\n",
      "Table of Contents:\n",
      "- [Load trained model](#load-trained-model)\n",
      "- [Model init parameters](#model-init-parameters)\n",
      "- [Model metrics](#model-metrics)\n",
      "- [Dataset](#dataset)\n",
      "\n",
      "## Load trained model\n",
      "```python\n",
      "import segmentation_models_pytorch as smp\n",
      "\n",
      "model = smp.from_pretrained(\"<save-directory-or-this-repo>\")\n",
      "```\n",
      "\n",
      "## Model init parameters\n",
      "```python\n",
      "model_init_params = {\n",
      "    \"encoder_name\": \"resnet34\",\n",
      "    \"encoder_depth\": 5,\n",
      "    \"encoder_weights\": \"imagenet\",\n",
      "    \"decoder_use_batchnorm\": True,\n",
      "    \"decoder_channels\": (256, 128, 64, 32, 16),\n",
      "    \"decoder_attention_type\": None,\n",
      "    \"in_channels\": 3,\n",
      "    \"classes\": 1,\n",
      "    \"activation\": None,\n",
      "    \"aux_params\": None\n",
      "}\n",
      "```\n",
      "\n",
      "## Model metrics\n",
      "```json\n",
      "{\n",
      "    \"mIoU\": 0.95,\n",
      "    \"accuracy\": 0.96\n",
      "}\n",
      "```\n",
      "\n",
      "## Dataset\n",
      "Dataset name: PASCAL VOC\n",
      "\n",
      "## More Information\n",
      "- Library: https://github.com/qubvel/segmentation_models.pytorch\n",
      "- Docs: https://smp.readthedocs.io/en/latest/\n",
      "\n",
      "This model has been pushed to the Hub using the [PytorchModelHubMixin](https://huggingface.co/docs/huggingface_hub/package_reference/mixins#huggingface_hub.PyTorchModelHubMixin)"
     ]
    }
   ],
   "source": [
    "!cat \"saved-model-dir/unet-with-metadata/README.md\""
   ]
  },
  {
   "cell_type": "markdown",
   "metadata": {},
   "source": [
    "## Share model with HF Hub"
   ]
  },
  {
   "cell_type": "code",
   "execution_count": 5,
   "metadata": {},
   "outputs": [
    {
     "data": {
      "application/vnd.jupyter.widget-view+json": {
       "model_id": "075ae026811542bdb4030e53b943efc7",
       "version_major": 2,
       "version_minor": 0
      },
      "text/plain": [
       "VBox(children=(HTML(value='<center> <img\\nsrc=https://huggingface.co/front/assets/huggingface_logo-noborder.sv…"
      ]
     },
     "metadata": {},
     "output_type": "display_data"
    }
   ],
   "source": [
    "from huggingface_hub import notebook_login\n",
    "\n",
    "# You only need to run this once on the machine,\n",
    "# the token will be stored for later use\n",
    "notebook_login()"
   ]
  },
  {
   "cell_type": "code",
   "execution_count": 8,
   "metadata": {},
   "outputs": [
    {
     "data": {
      "application/vnd.jupyter.widget-view+json": {
       "model_id": "2921a81d7fd747939b4a425cc17d6104",
       "version_major": 2,
       "version_minor": 0
      },
      "text/plain": [
       "model.safetensors:   0%|          | 0.00/97.8M [00:00<?, ?B/s]"
      ]
     },
     "metadata": {},
     "output_type": "display_data"
    },
    {
     "data": {
      "text/plain": [
       "CommitInfo(commit_url='https://huggingface.co/qubvel-hf/unet-with-metadata/commit/9f821c7bc3a12db827c0da96a31f354ec6ba5253', commit_message='Push model using huggingface_hub.', commit_description='', oid='9f821c7bc3a12db827c0da96a31f354ec6ba5253', pr_url=None, pr_revision=None, pr_num=None)"
      ]
     },
     "execution_count": 8,
     "metadata": {},
     "output_type": "execute_result"
    }
   ],
   "source": [
    "model = smp.Unet()\n",
    "\n",
    "# save the model and share it on the HF Hub (https://huggingface.co/models)\n",
    "model.save_pretrained(\n",
    "    \"qubvel-hf/unet-with-metadata/\",\n",
    "    push_to_hub=True,        # <----------    push the model to the hub\n",
    "    private=False,           # <----------    make the model private or or public\n",
    "    dataset=\"PASCAL VOC\",\n",
    "    metrics={\n",
    "        \"mIoU\": 0.95,\n",
    "        \"accuracy\": 0.96\n",
    "    }\n",
    ")\n",
    "\n",
    "# see result here https://huggingface.co/qubvel-hf/unet-with-metadata"
   ]
  }
 ],
 "metadata": {
  "kernelspec": {
   "display_name": ".venv",
   "language": "python",
   "name": "python3"
  },
  "language_info": {
   "codemirror_mode": {
    "name": "ipython",
    "version": 3
   },
   "file_extension": ".py",
   "mimetype": "text/x-python",
   "name": "python",
   "nbconvert_exporter": "python",
   "pygments_lexer": "ipython3",
   "version": "3.10.12"
  }
 },
 "nbformat": 4,
 "nbformat_minor": 2
}
